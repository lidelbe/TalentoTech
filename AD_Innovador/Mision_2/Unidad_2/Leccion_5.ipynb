{
  "nbformat": 4,
  "nbformat_minor": 0,
  "metadata": {
    "colab": {
      "provenance": []
    },
    "kernelspec": {
      "name": "python3",
      "display_name": "Python 3"
    },
    "language_info": {
      "name": "python"
    }
  },
  "cells": [
    {
      "cell_type": "markdown",
      "source": [
        "Actividad: Consultas SQL"
      ],
      "metadata": {
        "id": "EMPREaUiQfYT"
      }
    },
    {
      "cell_type": "code",
      "execution_count": null,
      "metadata": {
        "id": "Ka7jeGXCQas0"
      },
      "outputs": [],
      "source": [
        "# 1. Ejecutar y revisar el resultado de las siguientes consultas:\n",
        "\n",
        "SELECT * FROM Invoice;\n",
        "SELECT * FROM Employee;\n",
        "SELECT BILLINGCOUNTRY,\n",
        "  \tCOUNT(INVOICEID)\n",
        "  FROM INVOICE\n",
        "  GROUP BY 1 ORDER BY 2 DESC\n"
      ]
    },
    {
      "cell_type": "code",
      "source": [
        "# 2. ¿Qué país tiene más facturas?\n",
        "\n",
        "# El país que tiene más facturas es Estados Unidos, con 91\n",
        "\n",
        "SELECT BillingCountry,\n",
        "COUNT(invoiceId) AS Result FROM Invoice\n",
        "GROUP BY BillingCountry\n",
        "ORDER BY Result DESC;\n"
      ],
      "metadata": {
        "id": "9WPLvuZJQmPw"
      },
      "execution_count": null,
      "outputs": []
    },
    {
      "cell_type": "code",
      "source": [
        "# 3. Se quiere promocionar un nuevo festival musical, para ello es necesario saber en qué ciudad hay más facturas (invoices). Determinar en qué ciudad la suma de facturas es la mayor.\n",
        "\n",
        "# Praga es la ciudad con una suma mayor en el total de sus facturas, con 90.24\n",
        "\n",
        "SELECT * FROM invoice\n",
        "SELECT BillingCity AS ciudad, SUM(Total) AS SumaTotalFacturas\n",
        "FROM invoice GROUP BY BillingCity\n",
        "ORDER BY TotalFacturas DESC\n",
        "LIMIT 1\n"
      ],
      "metadata": {
        "id": "raV9LWa7Qp5q"
      },
      "execution_count": null,
      "outputs": []
    },
    {
      "cell_type": "code",
      "source": [
        "# 4. Determinar quién es el mejor cliente (el que más ha gastado en el sistema)\n",
        "\n",
        "# El mejor cliente es el número 6, con 49.62 gastado\n",
        "\n",
        "SELECT CustomerId, SUM(Total) AS TotalGastado\n",
        "FROM invoice GROUP BY CustomerId\n",
        "ORDER BY TotalGastado DESC\n",
        "LIMIT 1;\n"
      ],
      "metadata": {
        "id": "fK1Mw3cwQs4H"
      },
      "execution_count": null,
      "outputs": []
    },
    {
      "cell_type": "code",
      "source": [
        "# 5. Obtener una tabla con el correo, nombre y apellido de todas las personas que escuchan Rock. Retornar la lista por orden alfabético\n",
        "\n",
        "SELECT * FROM customer;\n",
        "SELECT * FROM invoice;\n",
        "SELECT * FROM invoiceline;\n",
        "SELECT * FROM track;\n",
        "SELECT * FROM genre;\n",
        "SELECT Email, FirstName, LastName FROM customer\n",
        "INNER JOIN invoice ON customer.CustomerId = invoice.CustomerId\n",
        "INNER JOIN invoiceline ON invoice.InvoiceId = invoiceline.InvoiceId\n",
        "INNER JOIN track ON invoiceline.TrackId = track.TrackId\n",
        "INNER JOIN genre ON track.GenreId = genre.GenreId\n",
        "WHERE genre.Name = 'Rock'\n",
        "GROUP BY customer.Email, customer.FirstName, customer.LastName\n",
        "ORDER BY customer.LastName, customer.FirstName;\n"
      ],
      "metadata": {
        "id": "FAzZRDIlQvdE"
      },
      "execution_count": null,
      "outputs": []
    },
    {
      "cell_type": "code",
      "source": [
        "# 6. Sacar una lista con todos los artistas que generan música rock\n",
        "\n",
        "SELECT * FROM artist;\n",
        "SELECT artist.Name AS Artist_Name FROM artist\n",
        "INNER JOIN album ON artist.ArtistId = album.ArtistId\n",
        "INNER JOIN track ON album.AlbumId = track.AlbumId\n",
        "INNER JOIN genre ON track.GenreId = genre.GenreId\n",
        "WHERE genre.Name = 'Rock'\n",
        "ORDER BY artist.Name;\n"
      ],
      "metadata": {
        "id": "1uiY2BGXQyIS"
      },
      "execution_count": null,
      "outputs": []
    },
    {
      "cell_type": "code",
      "source": [
        "# 7. Encontrar cuál es el artista que más ha ganado de acuerdo con el campo invoiceLines.\n",
        "\n",
        "# El artista que más ha ganado ha sido Iron Maiden, con 138.60\n",
        "\n",
        "SELECT artist.Name AS Artist_Name,\n",
        "SUM(invoiceline.UnitPrice * invoiceline.Quantity) AS TotalGanado FROM artist\n",
        "INNER JOIN album ON artist.ArtistId = album.ArtistId\n",
        "INNER JOIN track ON album.AlbumId = track.AlbumId\n",
        "INNER JOIN invoiceline ON track.TrackId = invoiceline.TrackId\n",
        "GROUP BY artist.ArtistId\n",
        "ORDER BY TotalGanado DESC;\n"
      ],
      "metadata": {
        "id": "4GQiGjlIQ0gP"
      },
      "execution_count": null,
      "outputs": []
    },
    {
      "cell_type": "code",
      "source": [
        "# 8. Encontrar cuánto gastaron en total en Estados Unidos en compras\n",
        "\n",
        "# En Estados Unidos, se gastaron un total de 523,06\n"
      ],
      "metadata": {
        "id": "tBhvAxMoQ3O5"
      },
      "execution_count": null,
      "outputs": []
    },
    {
      "cell_type": "code",
      "source": [
        "# 9. Encontrar cuánto gastaron los usuarios por género.\n",
        "\n",
        "SELECT Genre.Name AS Genero_Musical,\n",
        "SUM(InvoiceLine.UnitPrice * InvoiceLine.Quantity) AS Total_Gastado\n",
        "FROM Invoice\n",
        "INNER JOIN InvoiceLine ON Invoice.InvoiceId = InvoiceLine.InvoiceId\n",
        "INNER JOIN Track ON InvoiceLine.TrackId = Track.TrackId\n",
        "INNER JOIN Genre ON Track.GenreId = Genre.GenreId\n",
        "GROUP BY Genre.Name;\n"
      ],
      "metadata": {
        "id": "6HmZaBUtQ45k"
      },
      "execution_count": null,
      "outputs": []
    },
    {
      "cell_type": "code",
      "source": [
        "# 10. Generar una tabla con el conteo de usuarios por cada país.\n",
        "\n",
        "SELECT Country, COUNT(*) AS Cantidad FROM Customer\n",
        "GROUP BY Country;\n"
      ],
      "metadata": {
        "id": "EF-chTg1Q7IL"
      },
      "execution_count": null,
      "outputs": []
    },
    {
      "cell_type": "code",
      "source": [
        "# 11. Encontrar cuántas canciones hay por cada género.\n",
        "\n",
        "SELECT Genre.Name AS Genero, COUNT(*) AS Cantidad_Canciones FROM Track\n",
        "INNER JOIN Genre ON Track.GenreId = Genre.GenreId\n",
        "GROUP BY Genre.Name;"
      ],
      "metadata": {
        "id": "rL6UHqGcQ9v_"
      },
      "execution_count": null,
      "outputs": []
    }
  ]
}