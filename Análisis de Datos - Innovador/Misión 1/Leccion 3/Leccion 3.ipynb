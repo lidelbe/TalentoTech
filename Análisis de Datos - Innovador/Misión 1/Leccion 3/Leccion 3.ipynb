{
  "nbformat": 4,
  "nbformat_minor": 0,
  "metadata": {
    "colab": {
      "provenance": []
    },
    "kernelspec": {
      "name": "python3",
      "display_name": "Python 3"
    },
    "language_info": {
      "name": "python"
    }
  },
  "cells": [
    {
      "cell_type": "code",
      "source": [
        "# Mapa de precios de gasolina en Colombia\n",
        "\n",
        "PS C:\\Users\\USUARIO\\Desktop\\TT\\AD\\docker docker run -p 8888:8888  geopandas_img\n"
      ],
      "metadata": {
        "id": "kvLyZ3OUPUdE"
      },
      "execution_count": null,
      "outputs": []
    },
    {
      "cell_type": "code",
      "source": [
        "# PS C:\\Users\\USUARIO\\Desktop\\TT\\AD\\docker> docker run -p 8888:8888  geopandas_img"
      ],
      "metadata": {
        "id": "8rX2P7sgPc1x"
      },
      "execution_count": null,
      "outputs": []
    },
    {
      "cell_type": "code",
      "source": [
        "#    To access the server, open this file in a browser:\n",
        "#        file:///home/jovyan/.local/share/jupyter/runtime/jpserver-7-open.html\n",
        "#    Or copy and paste one of these URLs:\n",
        "#        http://f7da7ca290ec:8888/lab?token=410917c82c4f75fff714b65ba74486167d77b304bec13b72\n",
        "#        http://127.0.0.1:8888/lab?token=410917c82c4f75fff714b65ba74486167d77b304bec13b72\n"
      ],
      "metadata": {
        "id": "DTROfkfLPk8l"
      },
      "execution_count": null,
      "outputs": []
    },
    {
      "cell_type": "code",
      "execution_count": 2,
      "metadata": {
        "id": "ynvK_hnxNiuU"
      },
      "outputs": [],
      "source": [
        "# Importar en jypiter notebook\n",
        "\n",
        "import geopandas as gpd\n",
        "import numpy as np\n",
        "import matplotlib.pyplot as plt\n",
        "import shapely as shp\n",
        "import pandas as pd\n",
        "\n",
        "ruta_municipios = '/content/municipios.geojson'\n",
        "ruta_precios = '/content/precios_combustible.csv'\n"
      ]
    },
    {
      "cell_type": "code",
      "source": [
        "precios = gpd.read_file(ruta_precios)\n",
        "shapes = gpd.read_file(ruta_municipios)\n",
        "\n",
        "shapes.plot()"
      ],
      "metadata": {
        "id": "EEgHCUaLPJVI"
      },
      "execution_count": null,
      "outputs": []
    },
    {
      "cell_type": "code",
      "source": [
        "# Listar los productos para escoger uno\n",
        "precios[\"producto\"].unique()\n",
        "precios_gasolina = precios[precios[\"producto\"] == \"GASOLINA CORRIENTE OXIGENADA\"] # filtrar por producto\n",
        "print(len(precios_gasolina))\n",
        "precios_gasolina.head()\n",
        "\n",
        "precios_agrupados = precios_gasolina.groupby(\"municipionombre\", as_index=False)[\"precio\"].agg([\"max\"])\n",
        "precios_mapa = shapes.merge(precios_agrupados, right_on=\"municipionombre\",left_on=\"MPIO_CNMBR\")\n"
      ],
      "metadata": {
        "id": "zDB7uznTNnDT"
      },
      "execution_count": null,
      "outputs": []
    },
    {
      "cell_type": "code",
      "source": [
        "# Dibujar sobre el mapa\n",
        "axis = shapes[\"geometry\"].plot(figsize=(20, 12))\n",
        "precios_mapa[\"max\"] = precios_mapa[\"max\"].apply(lambda x: int(x))\n",
        "precios_mapa.plot(column=\"max\", ax=axis, legend=True, scheme=\"Quantiles\", k=10, cmap=\"gist_rainbow\")\n",
        "axis.set_title(\"Precios de gasolina 2018\")"
      ],
      "metadata": {
        "id": "MpixqdsMNo1P"
      },
      "execution_count": null,
      "outputs": []
    }
  ]
}