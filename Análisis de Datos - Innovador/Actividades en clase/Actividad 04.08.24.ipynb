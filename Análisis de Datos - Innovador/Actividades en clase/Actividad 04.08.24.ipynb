{
  "nbformat": 4,
  "nbformat_minor": 0,
  "metadata": {
    "colab": {
      "provenance": []
    },
    "kernelspec": {
      "name": "python3",
      "display_name": "Python 3"
    },
    "language_info": {
      "name": "python"
    }
  },
  "cells": [
    {
      "cell_type": "markdown",
      "source": [
        "Equivalencias entre SQL y PANDAS"
      ],
      "metadata": {
        "id": "xCAviZbbLXva"
      }
    },
    {
      "cell_type": "code",
      "execution_count": null,
      "metadata": {
        "id": "I481vuIaHcOM"
      },
      "outputs": [],
      "source": [
        "# 1. Consulta: Selección de todas las filas\n",
        "# SQL:\n",
        "SELECT *\n",
        "FROM tabla;\n",
        "# Pandas:\n",
        "df\n"
      ]
    },
    {
      "cell_type": "code",
      "source": [
        "# 2. Consulta: Selección de columnas específicas\n",
        "# SQL:\n",
        "SELECT columna1, columna2\n",
        "FROM tabla;\n",
        "# Pandas:\n",
        "df[['columna1', 'columna2']]\n"
      ],
      "metadata": {
        "id": "A8GUXSDfLeYZ"
      },
      "execution_count": null,
      "outputs": []
    },
    {
      "cell_type": "code",
      "source": [
        "# 3. Consulta: Selección de todas las filas con una condición\n",
        "# SQL:\n",
        "SELECT *\n",
        "FROM tabla\n",
        "WHERE condicion;\n",
        "# Pandas:\n",
        "df[df['condicion']]\n"
      ],
      "metadata": {
        "id": "zLkea6s8LiLO"
      },
      "execution_count": null,
      "outputs": []
    },
    {
      "cell_type": "code",
      "source": [
        "# 4. Consulta: Ordenar resultados\n",
        "# SQL:\n",
        "SELECT *\n",
        "FROM tabla\n",
        "ORDER BY columna ASC|DESC;\n",
        "# Pandas:\n",
        "df.sort_values(by='columna', ascending=True|False)\n"
      ],
      "metadata": {
        "id": "s1-Wh6GNLlKe"
      },
      "execution_count": null,
      "outputs": []
    },
    {
      "cell_type": "code",
      "source": [
        "# 5. Consulta: Filtrado de filas basado en múltiples condiciones\n",
        "# SQL:\n",
        "SELECT *\n",
        "FROM tabla\n",
        "WHERE condicion1 AND condicion2;\n",
        "# Pandas:\n",
        "df[(df['condicion1']) & (df['condicion2'])]\n"
      ],
      "metadata": {
        "id": "G_mvveZyLoG2"
      },
      "execution_count": null,
      "outputs": []
    },
    {
      "cell_type": "code",
      "source": [
        "# 6. Consulta: Filtrado de filas basado en una lista de valores\n",
        "# SQL:\n",
        "SELECT *\n",
        "FROM tabla\n",
        "WHERE columna IN (valor1, valor2, ...);\n",
        "# Pandas:\n",
        "df[df['columna'].isin([valor1, valor2, ...])]\n"
      ],
      "metadata": {
        "id": "zBi9lHWtLq6X"
      },
      "execution_count": null,
      "outputs": []
    },
    {
      "cell_type": "code",
      "source": [
        "# 7. Consulta: Selección de filas basadas en valores nulos o no nulos\n",
        "# SQL:\n",
        "SELECT *\n",
        "FROM tabla\n",
        "WHERE columna IS NULL;\n",
        "# Pandas:\n",
        "df[df['columna'].isnull()]\n",
        "\n",
        "# SQL:\n",
        "SELECT *\n",
        "FROM tabla\n",
        "WHERE columna IS NOT NULL;\n",
        "# Pandas:\n",
        "df[df['columna'].notnull()]"
      ],
      "metadata": {
        "id": "MuEGVVvlLwN7"
      },
      "execution_count": null,
      "outputs": []
    },
    {
      "cell_type": "code",
      "source": [
        "# 8. Consulta: JOIN\n",
        "# SQL:\n",
        "SELECT *\n",
        "FROM tabla1\n",
        "INNER JOIN tabla2\n",
        "ON tabla1.columna = tabla2.columna;\n",
        "# Pandas:\n",
        "pd.merge(tabla1, tabla2, on='columna', how='inner')\n"
      ],
      "metadata": {
        "id": "xAPG63ryLyuM"
      },
      "execution_count": null,
      "outputs": []
    },
    {
      "cell_type": "markdown",
      "source": [
        "Equivalencias SQL a PANDAS, con Data set de ligas de futbol"
      ],
      "metadata": {
        "id": "_eFU95n2MEaC"
      }
    },
    {
      "cell_type": "code",
      "source": [
        "# 1. Descripción: Obtener todos los equipos de una liga específica\n",
        "# SQL:\n",
        "SELECT *\n",
        "FROM Team\n",
        "WHERE league_id = 'SP1';\n",
        "# PANDAS:\n",
        "import pandas as pd\n",
        "\n",
        "# Cargando el dataset\n",
        "df_teams = pd.read_csv('soccer_database.csv')\n",
        "\n",
        "# Filtrando los equipos de una liga específica\n",
        "teams_in_league = df_teams[df_teams['league_id'] == 'SP1']\n",
        "print(teams_in_league)\n"
      ],
      "metadata": {
        "id": "ddIbkQkyMD9K"
      },
      "execution_count": null,
      "outputs": []
    },
    {
      "cell_type": "code",
      "source": [
        "# 2. Descripción: Contar el número de jugadores por equipo\n",
        "# SQL:\n",
        "SELECT team_long_name, COUNT(player_api_id) AS num_players\n",
        "FROM Player\n",
        "GROUP BY team_long_name;\n",
        "# PANDAS:\n",
        "# Cargando el dataset\n",
        "df_players = pd.read_csv('soccer_database.csv')\n",
        "\n",
        "# Contando el número de jugadores en cada equipo\n",
        "player_count_per_team = df_players.groupby('team_long_name')['player_api_id'].count().reset_index()\n",
        "player_count_per_team.columns = ['team_long_name', 'num_players']\n",
        "print(player_count_per_team)\n"
      ],
      "metadata": {
        "id": "HmO9wsh7MNgF"
      },
      "execution_count": null,
      "outputs": []
    },
    {
      "cell_type": "code",
      "source": [
        "# 3. Descripción: Encontrar el jugador con mayor salario\n",
        "# SQL:\n",
        "SELECT player_name, MAX(salary) AS max_salary\n",
        "FROM Player;\n",
        "# PANDAS:\n",
        "# Cargando el dataset\n",
        "df_players = pd.read_csv('soccer_database.csv')\n",
        "\n",
        "# Encontrando el jugador con el mayor salario\n",
        "max_salary_player = df_players.loc[df_players['salary'].idxmax(), ['player_name', 'salary']]\n",
        "print(max_salary_player)\n"
      ],
      "metadata": {
        "id": "C1XLM0vYMQ3g"
      },
      "execution_count": null,
      "outputs": []
    },
    {
      "cell_type": "code",
      "source": [
        "# 4. Descripción: Cantidad promedio de goles por partido en cada liga\n",
        "# SQL:\n",
        "SELECT league_id, AVG(home_team_goal + away_team_goal) AS avg_goals\n",
        "FROM Match\n",
        "GROUP BY league_id;\n",
        "# PANDAS:\n",
        "# Cargando el dataset\n",
        "df_matches = pd.read_csv('soccer_database.csv')\n",
        "\n",
        "# Calculando la cantidad promedio de goles por partido en cada liga\n",
        "avg_goals_per_league = df_matches.groupby('league_id').apply(lambda x: (x['home_team_goal'] + x['away_team_goal']).mean()).reset_index()\n",
        "avg_goals_per_league.columns = ['league_id', 'avg_goals']\n",
        "print(avg_goals_per_league)\n"
      ],
      "metadata": {
        "id": "8odS_wWYMWy3"
      },
      "execution_count": null,
      "outputs": []
    },
    {
      "cell_type": "code",
      "source": [
        "# 5. Descripción: 10 equipos con mayor diferencia de goles en una temporada específica\n",
        "# SQL:\n",
        "SELECT team_long_name, (home_team_goal - away_team_goal) AS goal_diff\n",
        "FROM Match\n",
        "WHERE season = '2015/2016'\n",
        "ORDER BY goal_diff DESC\n",
        "LIMIT 10;\n",
        "# PANDAS:\n",
        "# Cargando el dataset\n",
        "df_matches = pd.read_csv('soccer_database.csv')\n",
        "\n",
        "# Filtrando y ordenando los equipos con la mayor diferencia de goles en una temporada específica\n",
        "top_goal_diff_teams = df_matches[df_matches['season'] == '2015/2016'].copy()\n",
        "top_goal_diff_teams['goal_diff'] = top_goal_diff_teams['home_team_goal'] - top_goal_diff_teams['away_team_goal']\n",
        "top_goal_diff_teams = top_goal_diff_teams[['home_team_long_name', 'goal_diff']].rename(columns={'home_team_long_name': 'team_long_name'})\n",
        "top_goal_diff_teams = top_goal_diff_teams.sort_values(by='goal_diff', ascending=False).head(10)\n",
        "print(top_goal_diff_teams)\n"
      ],
      "metadata": {
        "id": "YXWiZVPZMYjA"
      },
      "execution_count": null,
      "outputs": []
    }
  ]
}